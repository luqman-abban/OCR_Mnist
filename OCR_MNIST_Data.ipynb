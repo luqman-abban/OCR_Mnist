{
  "cells": [
    {
      "cell_type": "markdown",
      "source": [
        "# Optical Character Recognition (OCR) with MNIST Dataset\n",
        "This notebook demonstrates the process of building and training a Convolutional Neural Network (CNN) for recognizing handwritten digits using the MNIST dataset. The MNIST dataset is a large collection of handwritten digits that is commonly used for training various image processing systems. Our goal is to develop a model that can accurately classify these digits."
      ],
      "metadata": {
        "id": "mtAeyanw6dQA"
      },
      "id": "mtAeyanw6dQA"
    },
    {
      "cell_type": "code",
      "execution_count": 44,
      "id": "e00dbf0c-b318-46c3-b685-f844204587c4",
      "metadata": {
        "id": "e00dbf0c-b318-46c3-b685-f844204587c4"
      },
      "outputs": [],
      "source": [
        "from keras.datasets import mnist\n",
        "from keras.utils import to_categorical\n",
        "from keras.models import Sequential\n",
        "from keras.layers import Dense, Conv2D, MaxPool2D, Flatten\n",
        "from sklearn.metrics import classification_report"
      ]
    },
    {
      "cell_type": "markdown",
      "source": [
        "## Data Loading\n"
      ],
      "metadata": {
        "id": "oUxBZK997I3u"
      },
      "id": "oUxBZK997I3u"
    },
    {
      "cell_type": "code",
      "execution_count": 45,
      "id": "b49f63ea-6778-4466-9134-c505f35c2dba",
      "metadata": {
        "id": "b49f63ea-6778-4466-9134-c505f35c2dba"
      },
      "outputs": [],
      "source": [
        "(x_train, y_train), (x_test,y_test)=mnist.load_data()"
      ]
    },
    {
      "cell_type": "markdown",
      "id": "767c344c-946a-47cc-ab5e-25e11a304b22",
      "metadata": {
        "id": "767c344c-946a-47cc-ab5e-25e11a304b22"
      },
      "source": [
        "# Visualizaing the dataset"
      ]
    },
    {
      "cell_type": "code",
      "execution_count": 46,
      "id": "1ed0bb56-87dd-4fbd-a5b1-500ea746ffc9",
      "metadata": {
        "colab": {
          "base_uri": "https://localhost:8080/"
        },
        "id": "1ed0bb56-87dd-4fbd-a5b1-500ea746ffc9",
        "outputId": "5a50356a-b5b1-4b0c-c141-99fcbc32adfb"
      },
      "outputs": [
        {
          "output_type": "execute_result",
          "data": {
            "text/plain": [
              "(60000, 28, 28)"
            ]
          },
          "metadata": {},
          "execution_count": 46
        }
      ],
      "source": [
        "import matplotlib.pyplot as plt\n",
        "x_train.shape"
      ]
    },
    {
      "cell_type": "code",
      "execution_count": 47,
      "id": "48e6e43b-9477-439f-a028-69ff734408d5",
      "metadata": {
        "colab": {
          "base_uri": "https://localhost:8080/"
        },
        "id": "48e6e43b-9477-439f-a028-69ff734408d5",
        "outputId": "b2719c7a-29b7-4f89-c016-c30dfce83a61"
      },
      "outputs": [
        {
          "output_type": "execute_result",
          "data": {
            "text/plain": [
              "array([[  0,   0,   0,   0,   0,   0,   0,   0,   0,   0,   0,   0,   0,\n",
              "          0,   0,   0,   0,   0,   0,   0,   0,   0,   0,   0,   0,   0,\n",
              "          0,   0],\n",
              "       [  0,   0,   0,   0,   0,   0,   0,   0,   0,   0,   0,   0,   0,\n",
              "          0,   0,   0,   0,   0,   0,   0,   0,   0,   0,   0,   0,   0,\n",
              "          0,   0],\n",
              "       [  0,   0,   0,   0,   0,   0,   0,   0,   0,   0,   0,   0,   0,\n",
              "          0,   0,   0,   0,   0,   0,   0,   0,   0,   0,   0,   0,   0,\n",
              "          0,   0],\n",
              "       [  0,   0,   0,   0,   0,   0,   0,   0,   0,   0,   0,   0,   0,\n",
              "          0,   0,   0,   0,   0,   0,   0,   0,   0,   0,   0,   0,   0,\n",
              "          0,   0],\n",
              "       [  0,   0,   0,   0,   0,   0,   0,   0,   0,   0,   0,   0,   0,\n",
              "          0,   0,   0,   0,   0,   0,   0,   0,   0,   0,   0,   0,   0,\n",
              "          0,   0],\n",
              "       [  0,   0,   0,   0,   0,   0,   0,   0,   0,   0,   0,   0,   3,\n",
              "         18,  18,  18, 126, 136, 175,  26, 166, 255, 247, 127,   0,   0,\n",
              "          0,   0],\n",
              "       [  0,   0,   0,   0,   0,   0,   0,   0,  30,  36,  94, 154, 170,\n",
              "        253, 253, 253, 253, 253, 225, 172, 253, 242, 195,  64,   0,   0,\n",
              "          0,   0],\n",
              "       [  0,   0,   0,   0,   0,   0,   0,  49, 238, 253, 253, 253, 253,\n",
              "        253, 253, 253, 253, 251,  93,  82,  82,  56,  39,   0,   0,   0,\n",
              "          0,   0],\n",
              "       [  0,   0,   0,   0,   0,   0,   0,  18, 219, 253, 253, 253, 253,\n",
              "        253, 198, 182, 247, 241,   0,   0,   0,   0,   0,   0,   0,   0,\n",
              "          0,   0],\n",
              "       [  0,   0,   0,   0,   0,   0,   0,   0,  80, 156, 107, 253, 253,\n",
              "        205,  11,   0,  43, 154,   0,   0,   0,   0,   0,   0,   0,   0,\n",
              "          0,   0],\n",
              "       [  0,   0,   0,   0,   0,   0,   0,   0,   0,  14,   1, 154, 253,\n",
              "         90,   0,   0,   0,   0,   0,   0,   0,   0,   0,   0,   0,   0,\n",
              "          0,   0],\n",
              "       [  0,   0,   0,   0,   0,   0,   0,   0,   0,   0,   0, 139, 253,\n",
              "        190,   2,   0,   0,   0,   0,   0,   0,   0,   0,   0,   0,   0,\n",
              "          0,   0],\n",
              "       [  0,   0,   0,   0,   0,   0,   0,   0,   0,   0,   0,  11, 190,\n",
              "        253,  70,   0,   0,   0,   0,   0,   0,   0,   0,   0,   0,   0,\n",
              "          0,   0],\n",
              "       [  0,   0,   0,   0,   0,   0,   0,   0,   0,   0,   0,   0,  35,\n",
              "        241, 225, 160, 108,   1,   0,   0,   0,   0,   0,   0,   0,   0,\n",
              "          0,   0],\n",
              "       [  0,   0,   0,   0,   0,   0,   0,   0,   0,   0,   0,   0,   0,\n",
              "         81, 240, 253, 253, 119,  25,   0,   0,   0,   0,   0,   0,   0,\n",
              "          0,   0],\n",
              "       [  0,   0,   0,   0,   0,   0,   0,   0,   0,   0,   0,   0,   0,\n",
              "          0,  45, 186, 253, 253, 150,  27,   0,   0,   0,   0,   0,   0,\n",
              "          0,   0],\n",
              "       [  0,   0,   0,   0,   0,   0,   0,   0,   0,   0,   0,   0,   0,\n",
              "          0,   0,  16,  93, 252, 253, 187,   0,   0,   0,   0,   0,   0,\n",
              "          0,   0],\n",
              "       [  0,   0,   0,   0,   0,   0,   0,   0,   0,   0,   0,   0,   0,\n",
              "          0,   0,   0,   0, 249, 253, 249,  64,   0,   0,   0,   0,   0,\n",
              "          0,   0],\n",
              "       [  0,   0,   0,   0,   0,   0,   0,   0,   0,   0,   0,   0,   0,\n",
              "          0,  46, 130, 183, 253, 253, 207,   2,   0,   0,   0,   0,   0,\n",
              "          0,   0],\n",
              "       [  0,   0,   0,   0,   0,   0,   0,   0,   0,   0,   0,   0,  39,\n",
              "        148, 229, 253, 253, 253, 250, 182,   0,   0,   0,   0,   0,   0,\n",
              "          0,   0],\n",
              "       [  0,   0,   0,   0,   0,   0,   0,   0,   0,   0,  24, 114, 221,\n",
              "        253, 253, 253, 253, 201,  78,   0,   0,   0,   0,   0,   0,   0,\n",
              "          0,   0],\n",
              "       [  0,   0,   0,   0,   0,   0,   0,   0,  23,  66, 213, 253, 253,\n",
              "        253, 253, 198,  81,   2,   0,   0,   0,   0,   0,   0,   0,   0,\n",
              "          0,   0],\n",
              "       [  0,   0,   0,   0,   0,   0,  18, 171, 219, 253, 253, 253, 253,\n",
              "        195,  80,   9,   0,   0,   0,   0,   0,   0,   0,   0,   0,   0,\n",
              "          0,   0],\n",
              "       [  0,   0,   0,   0,  55, 172, 226, 253, 253, 253, 253, 244, 133,\n",
              "         11,   0,   0,   0,   0,   0,   0,   0,   0,   0,   0,   0,   0,\n",
              "          0,   0],\n",
              "       [  0,   0,   0,   0, 136, 253, 253, 253, 212, 135, 132,  16,   0,\n",
              "          0,   0,   0,   0,   0,   0,   0,   0,   0,   0,   0,   0,   0,\n",
              "          0,   0],\n",
              "       [  0,   0,   0,   0,   0,   0,   0,   0,   0,   0,   0,   0,   0,\n",
              "          0,   0,   0,   0,   0,   0,   0,   0,   0,   0,   0,   0,   0,\n",
              "          0,   0],\n",
              "       [  0,   0,   0,   0,   0,   0,   0,   0,   0,   0,   0,   0,   0,\n",
              "          0,   0,   0,   0,   0,   0,   0,   0,   0,   0,   0,   0,   0,\n",
              "          0,   0],\n",
              "       [  0,   0,   0,   0,   0,   0,   0,   0,   0,   0,   0,   0,   0,\n",
              "          0,   0,   0,   0,   0,   0,   0,   0,   0,   0,   0,   0,   0,\n",
              "          0,   0]], dtype=uint8)"
            ]
          },
          "metadata": {},
          "execution_count": 47
        }
      ],
      "source": [
        "single_image= x_train[0]\n",
        "single_image"
      ]
    },
    {
      "cell_type": "code",
      "execution_count": 48,
      "id": "48d18696-a387-48ef-b6b7-32ce4c768f5c",
      "metadata": {
        "colab": {
          "base_uri": "https://localhost:8080/"
        },
        "id": "48d18696-a387-48ef-b6b7-32ce4c768f5c",
        "outputId": "eaa535c2-3eed-472b-8f49-60717a1f7294"
      },
      "outputs": [
        {
          "output_type": "execute_result",
          "data": {
            "text/plain": [
              "(28, 28)"
            ]
          },
          "metadata": {},
          "execution_count": 48
        }
      ],
      "source": [
        "single_image.shape"
      ]
    },
    {
      "cell_type": "code",
      "execution_count": 49,
      "id": "ea1c06c1-fd21-4ecd-8fa2-e225147e4a4f",
      "metadata": {
        "colab": {
          "base_uri": "https://localhost:8080/",
          "height": 448
        },
        "id": "ea1c06c1-fd21-4ecd-8fa2-e225147e4a4f",
        "outputId": "b7593dec-a418-4492-c790-7c01e0be4ec5"
      },
      "outputs": [
        {
          "output_type": "execute_result",
          "data": {
            "text/plain": [
              "<matplotlib.image.AxesImage at 0x7ee11b491e70>"
            ]
          },
          "metadata": {},
          "execution_count": 49
        },
        {
          "output_type": "display_data",
          "data": {
            "text/plain": [
              "<Figure size 640x480 with 1 Axes>"
            ],
            "image/png": "[encoded data removed]"
          },
          "metadata": {}
        }
      ],
      "source": [
        "plt.imshow(single_image, cmap='gray')"
      ]
    },
    {
      "cell_type": "markdown",
      "id": "4dde8d69-be7c-4d23-9906-121d4954a9a7",
      "metadata": {
        "id": "4dde8d69-be7c-4d23-9906-121d4954a9a7"
      },
      "source": [
        "## Data Preprocessing\n",
        "\n",
        "Before feeding the data into our model, we need to preprocess it. This includes normalizing the pixel values to be between 0 and 1 for better model performance and reshaping the input data to fit our neural network architecture. Additionally, we'll convert our class labels into one-hot encoded vectors.\n"
      ]
    },
    {
      "cell_type": "code",
      "execution_count": 50,
      "id": "349b0864-f859-491a-8e47-4055f5e53fa1",
      "metadata": {
        "colab": {
          "base_uri": "https://localhost:8080/"
        },
        "id": "349b0864-f859-491a-8e47-4055f5e53fa1",
        "outputId": "bb2c957b-7551-413b-bfe9-4813d0d92a96"
      },
      "outputs": [
        {
          "output_type": "execute_result",
          "data": {
            "text/plain": [
              "array([5, 0, 4, ..., 5, 6, 8], dtype=uint8)"
            ]
          },
          "metadata": {},
          "execution_count": 50
        }
      ],
      "source": [
        "y_train"
      ]
    },
    {
      "cell_type": "code",
      "execution_count": 51,
      "id": "73d3701d-f5e5-44b8-95bc-7f13b8d773a0",
      "metadata": {
        "colab": {
          "base_uri": "https://localhost:8080/"
        },
        "id": "73d3701d-f5e5-44b8-95bc-7f13b8d773a0",
        "outputId": "99e09acf-d35d-47c9-ad4b-917bef528356"
      },
      "outputs": [
        {
          "output_type": "execute_result",
          "data": {
            "text/plain": [
              "array([7, 2, 1, ..., 4, 5, 6], dtype=uint8)"
            ]
          },
          "metadata": {},
          "execution_count": 51
        }
      ],
      "source": [
        "y_test"
      ]
    },
    {
      "cell_type": "code",
      "execution_count": 52,
      "id": "6b0ec7af-d846-4ea9-97ca-d796e6dffe4a",
      "metadata": {
        "colab": {
          "base_uri": "https://localhost:8080/"
        },
        "id": "6b0ec7af-d846-4ea9-97ca-d796e6dffe4a",
        "outputId": "f9df6239-8f0a-42f3-8799-29535917f236"
      },
      "outputs": [
        {
          "output_type": "execute_result",
          "data": {
            "text/plain": [
              "(60000,)"
            ]
          },
          "metadata": {},
          "execution_count": 52
        }
      ],
      "source": [
        "y_train.shape"
      ]
    },
    {
      "cell_type": "markdown",
      "source": [
        "One-hot encoding"
      ],
      "metadata": {
        "id": "mMTCYDCC9GMY"
      },
      "id": "mMTCYDCC9GMY"
    },
    {
      "cell_type": "code",
      "execution_count": 53,
      "id": "a601ee47-369b-4351-9697-502e7d6099cc",
      "metadata": {
        "colab": {
          "base_uri": "https://localhost:8080/"
        },
        "id": "a601ee47-369b-4351-9697-502e7d6099cc",
        "outputId": "635c910d-33c0-46c3-a813-5bb25a87b7d6"
      },
      "outputs": [
        {
          "output_type": "execute_result",
          "data": {
            "text/plain": [
              "array([[0., 0., 0., ..., 0., 0., 0.],\n",
              "       [1., 0., 0., ..., 0., 0., 0.],\n",
              "       [0., 0., 0., ..., 0., 0., 0.],\n",
              "       ...,\n",
              "       [0., 0., 0., ..., 0., 0., 0.],\n",
              "       [0., 0., 0., ..., 0., 0., 0.],\n",
              "       [0., 0., 0., ..., 0., 1., 0.]], dtype=float32)"
            ]
          },
          "metadata": {},
          "execution_count": 53
        }
      ],
      "source": [
        "y_example= to_categorical(y_train)\n",
        "y_example"
      ]
    },
    {
      "cell_type": "code",
      "execution_count": 54,
      "id": "6ca48ff8-f2fc-420d-b124-8381c61222cf",
      "metadata": {
        "colab": {
          "base_uri": "https://localhost:8080/"
        },
        "id": "6ca48ff8-f2fc-420d-b124-8381c61222cf",
        "outputId": "8b482192-8eb8-4553-9564-defa26689235"
      },
      "outputs": [
        {
          "output_type": "execute_result",
          "data": {
            "text/plain": [
              "(60000, 10)"
            ]
          },
          "metadata": {},
          "execution_count": 54
        }
      ],
      "source": [
        "y_example.shape"
      ]
    },
    {
      "cell_type": "code",
      "execution_count": 55,
      "id": "ef90ab20-e5f8-4c54-8f60-8145bf141e0b",
      "metadata": {
        "id": "ef90ab20-e5f8-4c54-8f60-8145bf141e0b"
      },
      "outputs": [],
      "source": [
        "y_cat_train= to_categorical(y_train,10)"
      ]
    },
    {
      "cell_type": "code",
      "execution_count": 56,
      "id": "8da8f4f2-4341-4a06-b075-477f674f8981",
      "metadata": {
        "id": "8da8f4f2-4341-4a06-b075-477f674f8981"
      },
      "outputs": [],
      "source": [
        "y_cat_test=to_categorical(y_test,10)\n"
      ]
    },
    {
      "cell_type": "code",
      "execution_count": 57,
      "id": "5b5946d5-930d-4498-a546-18732c712313",
      "metadata": {
        "colab": {
          "base_uri": "https://localhost:8080/"
        },
        "id": "5b5946d5-930d-4498-a546-18732c712313",
        "outputId": "5e64a159-77e8-4cd7-e4f9-f541b999d611"
      },
      "outputs": [
        {
          "output_type": "execute_result",
          "data": {
            "text/plain": [
              "255"
            ]
          },
          "metadata": {},
          "execution_count": 57
        }
      ],
      "source": [
        "single_image.max() #max pixels in a single image"
      ]
    },
    {
      "cell_type": "code",
      "execution_count": 58,
      "id": "86897b71-d173-4a71-9646-2eb961430c44",
      "metadata": {
        "colab": {
          "base_uri": "https://localhost:8080/"
        },
        "id": "86897b71-d173-4a71-9646-2eb961430c44",
        "outputId": "01362b4b-ceb1-4d17-d260-3e89a233d635"
      },
      "outputs": [
        {
          "output_type": "execute_result",
          "data": {
            "text/plain": [
              "0"
            ]
          },
          "metadata": {},
          "execution_count": 58
        }
      ],
      "source": [
        "single_image.min() #min pixels in a single image"
      ]
    },
    {
      "cell_type": "markdown",
      "source": [
        "Normalization of images"
      ],
      "metadata": {
        "id": "d1kIAOOG99AG"
      },
      "id": "d1kIAOOG99AG"
    },
    {
      "cell_type": "code",
      "execution_count": 59,
      "id": "18870c89-2fa2-440b-9c4e-158cff344b9e",
      "metadata": {
        "id": "18870c89-2fa2-440b-9c4e-158cff344b9e"
      },
      "outputs": [],
      "source": [
        "x_train= x_train/255\n",
        "x_test= x_test/255"
      ]
    },
    {
      "cell_type": "code",
      "execution_count": 60,
      "id": "4e6a5e3a-ff8d-4b07-abfe-a829cd470923",
      "metadata": {
        "id": "4e6a5e3a-ff8d-4b07-abfe-a829cd470923"
      },
      "outputs": [],
      "source": [
        "scaled_image=x_train[0]"
      ]
    },
    {
      "cell_type": "code",
      "execution_count": 61,
      "id": "ca0a18db-36c9-496b-b916-eaa0d1d5cbc5",
      "metadata": {
        "colab": {
          "base_uri": "https://localhost:8080/"
        },
        "id": "ca0a18db-36c9-496b-b916-eaa0d1d5cbc5",
        "outputId": "29500956-9ad1-425d-da41-b7ee9017de22"
      },
      "outputs": [
        {
          "output_type": "execute_result",
          "data": {
            "text/plain": [
              "1.0"
            ]
          },
          "metadata": {},
          "execution_count": 61
        }
      ],
      "source": [
        "scaled_image.max()\n"
      ]
    },
    {
      "cell_type": "code",
      "execution_count": 62,
      "id": "36fd5310-800f-43bf-b760-c652ddf8c353",
      "metadata": {
        "colab": {
          "base_uri": "https://localhost:8080/"
        },
        "id": "36fd5310-800f-43bf-b760-c652ddf8c353",
        "outputId": "a255ec73-f077-4172-cf31-ff4924f8f008"
      },
      "outputs": [
        {
          "output_type": "execute_result",
          "data": {
            "text/plain": [
              "0.0"
            ]
          },
          "metadata": {},
          "execution_count": 62
        }
      ],
      "source": [
        "scaled_image.min()"
      ]
    },
    {
      "cell_type": "code",
      "execution_count": 63,
      "id": "b2ee23a1-2109-47ce-b9ba-c19c33680540",
      "metadata": {
        "colab": {
          "base_uri": "https://localhost:8080/",
          "height": 448
        },
        "id": "b2ee23a1-2109-47ce-b9ba-c19c33680540",
        "outputId": "45670cf5-3801-4595-ff0c-3c398ab9826c"
      },
      "outputs": [
        {
          "output_type": "execute_result",
          "data": {
            "text/plain": [
              "<matplotlib.image.AxesImage at 0x7ee102c58070>"
            ]
          },
          "metadata": {},
          "execution_count": 63
        },
        {
          "output_type": "display_data",
          "data": {
            "text/plain": [
              "<Figure size 640x480 with 1 Axes>"
            ],
            "image/png": "[encoded data removed]"
          },
          "metadata": {}
        }
      ],
      "source": [
        "plt.imshow(scaled_image)"
      ]
    },
    {
      "cell_type": "code",
      "execution_count": 64,
      "id": "1a541de1-04c7-4531-bcee-1c8876cf7249",
      "metadata": {
        "colab": {
          "base_uri": "https://localhost:8080/"
        },
        "id": "1a541de1-04c7-4531-bcee-1c8876cf7249",
        "outputId": "0e07bda5-f636-467e-90bb-26f9841ebd0a"
      },
      "outputs": [
        {
          "output_type": "execute_result",
          "data": {
            "text/plain": [
              "(60000, 28, 28)"
            ]
          },
          "metadata": {},
          "execution_count": 64
        }
      ],
      "source": [
        "x_train.shape"
      ]
    },
    {
      "cell_type": "code",
      "execution_count": 65,
      "id": "7e965052-dbb4-420f-980e-6ea4cead1f03",
      "metadata": {
        "id": "7e965052-dbb4-420f-980e-6ea4cead1f03"
      },
      "outputs": [],
      "source": [
        "x_train= x_train.reshape(60000, 28,28,1)"
      ]
    },
    {
      "cell_type": "code",
      "execution_count": 66,
      "id": "3d3c53b2-05e2-46c3-8e5c-fb0046f34a17",
      "metadata": {
        "colab": {
          "base_uri": "https://localhost:8080/"
        },
        "id": "3d3c53b2-05e2-46c3-8e5c-fb0046f34a17",
        "outputId": "0396e069-b4ee-4423-8fc6-ed76cb9c0975"
      },
      "outputs": [
        {
          "output_type": "execute_result",
          "data": {
            "text/plain": [
              "(60000, 28, 28, 1)"
            ]
          },
          "metadata": {},
          "execution_count": 66
        }
      ],
      "source": [
        "x_train.shape"
      ]
    },
    {
      "cell_type": "code",
      "source": [
        "x_test= x_test.reshape(10000,28,28,1)"
      ],
      "metadata": {
        "id": "d-ujXRdH_0AF"
      },
      "id": "d-ujXRdH_0AF",
      "execution_count": 67,
      "outputs": []
    },
    {
      "cell_type": "code",
      "source": [
        "x_test.shape"
      ],
      "metadata": {
        "colab": {
          "base_uri": "https://localhost:8080/"
        },
        "id": "CtxpWpiqABC3",
        "outputId": "fddad9aa-1281-4a45-cacf-15f0c8a2338c"
      },
      "id": "CtxpWpiqABC3",
      "execution_count": 68,
      "outputs": [
        {
          "output_type": "execute_result",
          "data": {
            "text/plain": [
              "(10000, 28, 28, 1)"
            ]
          },
          "metadata": {},
          "execution_count": 68
        }
      ]
    },
    {
      "cell_type": "markdown",
      "id": "3a0c9f0f-371e-4639-b4e4-b9f7820185d1",
      "metadata": {
        "id": "3a0c9f0f-371e-4639-b4e4-b9f7820185d1"
      },
      "source": [
        "# Model\n",
        "\n"
      ]
    },
    {
      "cell_type": "code",
      "execution_count": 69,
      "id": "0d806070-dbf2-4523-9036-ce019b385507",
      "metadata": {
        "id": "0d806070-dbf2-4523-9036-ce019b385507"
      },
      "outputs": [],
      "source": [
        "model= Sequential() # Sequential model for layer-by-layer construction\n",
        "\n",
        "model.add(Conv2D(filters=40, kernel_size=(3,3), input_shape= (28,28,1), activation= 'relu')) # Conv2D layer with 40 filters for feature extraction\n",
        "\n",
        "model.add(MaxPool2D(pool_size=(2,2))) # MaxPooling2D layers for downsampling\n",
        "\n",
        "model.add(Flatten()) # Flattening 2D layer into vector\n",
        "\n",
        "model.add(Dense(128, activation= 'relu')) # Dense layer for learning non-linear combinations\n",
        "\n",
        "model.add(Dense(10, activation='softmax')) # Output layer for multi-class classification"
      ]
    },
    {
      "cell_type": "code",
      "execution_count": 70,
      "id": "c1d73214-c0e5-4ae0-95e2-6c357ce6849e",
      "metadata": {
        "id": "c1d73214-c0e5-4ae0-95e2-6c357ce6849e"
      },
      "outputs": [],
      "source": [
        "# Compiling the model\n",
        "model.compile(loss='categorical_crossentropy',\n",
        "              optimizer='rmsprop',\n",
        "              metrics=['accuracy'])"
      ]
    },
    {
      "cell_type": "code",
      "execution_count": 71,
      "id": "a496675a-ab9b-4612-8c6c-066c419849e9",
      "metadata": {
        "colab": {
          "base_uri": "https://localhost:8080/"
        },
        "id": "a496675a-ab9b-4612-8c6c-066c419849e9",
        "outputId": "a67946bc-999f-435b-807d-655c1a8acf37"
      },
      "outputs": [
        {
          "output_type": "stream",
          "name": "stdout",
          "text": [
            "Model: \"sequential_1\"\n",
            "_________________________________________________________________\n",
            " Layer (type)                Output Shape              Param #   \n",
            "=================================================================\n",
            " conv2d_1 (Conv2D)           (None, 26, 26, 40)        400       \n",
            "                                                                 \n",
            " max_pooling2d_1 (MaxPoolin  (None, 13, 13, 40)        0         \n",
            " g2D)                                                            \n",
            "                                                                 \n",
            " flatten_1 (Flatten)         (None, 6760)              0         \n",
            "                                                                 \n",
            " dense_2 (Dense)             (None, 128)               865408    \n",
            "                                                                 \n",
            " dense_3 (Dense)             (None, 10)                1290      \n",
            "                                                                 \n",
            "=================================================================\n",
            "Total params: 867098 (3.31 MB)\n",
            "Trainable params: 867098 (3.31 MB)\n",
            "Non-trainable params: 0 (0.00 Byte)\n",
            "_________________________________________________________________\n"
          ]
        }
      ],
      "source": [
        "model.summary()"
      ]
    },
    {
      "cell_type": "code",
      "execution_count": 72,
      "id": "35c67b9d-7d0d-4bc8-ae78-c83ec86be92c",
      "metadata": {
        "colab": {
          "base_uri": "https://localhost:8080/"
        },
        "id": "35c67b9d-7d0d-4bc8-ae78-c83ec86be92c",
        "outputId": "a6d4d302-d27f-4eb9-cce0-ad065eaef5ce"
      },
      "outputs": [
        {
          "output_type": "stream",
          "name": "stdout",
          "text": [
            "Epoch 1/2\n",
            "1875/1875 [==============================] - 39s 21ms/step - loss: 0.1530 - accuracy: 0.9532\n",
            "Epoch 2/2\n",
            "1875/1875 [==============================] - 38s 20ms/step - loss: 0.0528 - accuracy: 0.9844\n"
          ]
        },
        {
          "output_type": "execute_result",
          "data": {
            "text/plain": [
              "<keras.src.callbacks.History at 0x7ee11b4921d0>"
            ]
          },
          "metadata": {},
          "execution_count": 72
        }
      ],
      "source": [
        "model.fit (x_train,y_cat_train, epochs=2) #training model for 2 Epochs on training labels"
      ]
    },
    {
      "cell_type": "code",
      "execution_count": 73,
      "id": "27a4a3f7-762d-4bef-a74d-57f5d1850244",
      "metadata": {
        "colab": {
          "base_uri": "https://localhost:8080/"
        },
        "id": "27a4a3f7-762d-4bef-a74d-57f5d1850244",
        "outputId": "8438eb3a-c2a0-4da8-a87e-e2bacbbc3962"
      },
      "outputs": [
        {
          "output_type": "stream",
          "name": "stdout",
          "text": [
            "313/313 [==============================] - 2s 6ms/step - loss: 0.0468 - accuracy: 0.9847\n"
          ]
        },
        {
          "output_type": "execute_result",
          "data": {
            "text/plain": [
              "[0.04678703472018242, 0.9847000241279602]"
            ]
          },
          "metadata": {},
          "execution_count": 73
        }
      ],
      "source": [
        "model.evaluate(x_test,y_cat_test)"
      ]
    },
    {
      "cell_type": "code",
      "execution_count": 74,
      "id": "9bf617c0-4308-4c5f-9af3-9560be2a6b32",
      "metadata": {
        "id": "9bf617c0-4308-4c5f-9af3-9560be2a6b32"
      },
      "outputs": [],
      "source": [
        "import numpy as np"
      ]
    },
    {
      "cell_type": "code",
      "execution_count": 75,
      "id": "cd5ab564-21ad-4b3c-8102-feada76b7914",
      "metadata": {
        "colab": {
          "base_uri": "https://localhost:8080/"
        },
        "id": "cd5ab564-21ad-4b3c-8102-feada76b7914",
        "outputId": "e60e6865-8355-4762-bb8f-602e87a67194"
      },
      "outputs": [
        {
          "output_type": "stream",
          "name": "stdout",
          "text": [
            "313/313 [==============================] - 2s 6ms/step\n"
          ]
        }
      ],
      "source": [
        "# predictions on test set\n",
        "predictions= model.predict(x_test)\n",
        "prediction_classes= np.argmax(predictions, axis=1)"
      ]
    },
    {
      "cell_type": "code",
      "execution_count": 76,
      "id": "2fab2bdb-250e-4fba-ad2c-4786e3ea44f4",
      "metadata": {
        "colab": {
          "base_uri": "https://localhost:8080/"
        },
        "id": "2fab2bdb-250e-4fba-ad2c-4786e3ea44f4",
        "outputId": "2d04de40-5f80-437e-c8c3-86c089593359"
      },
      "outputs": [
        {
          "output_type": "stream",
          "name": "stdout",
          "text": [
            "              precision    recall  f1-score   support\n",
            "\n",
            "           0       0.98      0.99      0.99       980\n",
            "           1       0.98      1.00      0.99      1135\n",
            "           2       0.98      0.98      0.98      1032\n",
            "           3       0.99      0.99      0.99      1010\n",
            "           4       0.98      0.99      0.99       982\n",
            "           5       0.99      0.99      0.99       892\n",
            "           6       0.99      0.98      0.99       958\n",
            "           7       0.98      0.98      0.98      1028\n",
            "           8       0.99      0.97      0.98       974\n",
            "           9       0.98      0.98      0.98      1009\n",
            "\n",
            "    accuracy                           0.98     10000\n",
            "   macro avg       0.98      0.98      0.98     10000\n",
            "weighted avg       0.98      0.98      0.98     10000\n",
            "\n"
          ]
        }
      ],
      "source": [
        "#model classification report\n",
        "report= classification_report(y_test, prediction_classes) # model classification report\n",
        "print(report)"
      ]
    },
    {
      "cell_type": "markdown",
      "source": [
        "# Summary\n",
        "This notebook walked through the process of building a CNN to classify handwritten digits using the MNIST dataset.\n",
        "\n",
        "**Precision:** The model has high precision across all digits, mostly above 0.98, which means that when it predicts a digit, it is correct most of the time.\n",
        "\n",
        "**Recall:** The recall scores are also high, suggesting that the model is good at finding all the relevant cases of each digit.\n",
        "\n",
        "**F1-Score:** The F1-scores, which are the harmonic mean of precision and recall, are consistently high across all digits.\n",
        "\n",
        "**Support:** The support values, which indicate the number of true instances for each digit in the test set, show a balanced distribution of digits, ensuring that the high scores are not due to class imbalance.\n",
        "\n",
        "**Overall Accuracy:** The model achieves an overall accuracy of 0.99, which is exceptional.\n",
        "\n",
        "The results indicate a high-performing model. Future work could explore model optimization techniques, such as hyperparameter tuning, to further improve performance.\n"
      ],
      "metadata": {
        "id": "bi46gAo7Ge99"
      },
      "id": "bi46gAo7Ge99"
    },
    {
      "cell_type": "code",
      "source": [],
      "metadata": {
        "id": "38cnIH60Hy__"
      },
      "id": "38cnIH60Hy__",
      "execution_count": 76,
      "outputs": []
    }
  ],
  "metadata": {
    "kernelspec": {
      "display_name": "Python 3 (ipykernel)",
      "language": "python",
      "name": "python3"
    },
    "language_info": {
      "codemirror_mode": {
        "name": "ipython",
        "version": 3
      },
      "file_extension": ".py",
      "mimetype": "text/x-python",
      "name": "python",
      "nbconvert_exporter": "python",
      "pygments_lexer": "ipython3",
      "version": "3.11.7"
    },
    "colab": {
      "provenance": []
    }
  },
  "nbformat": 4,
  "nbformat_minor": 5
}